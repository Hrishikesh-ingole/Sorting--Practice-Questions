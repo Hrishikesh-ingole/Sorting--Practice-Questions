{
 "cells": [
  {
   "cell_type": "code",
   "execution_count": 52,
   "id": "4601cd68-4337-46b8-8504-77feb72494b7",
   "metadata": {},
   "outputs": [
    {
     "data": {
      "text/plain": [
       "3"
      ]
     },
     "execution_count": 52,
     "metadata": {},
     "output_type": "execute_result"
    }
   ],
   "source": [
    "#Problem 1.Given an array of n numbers, give an algorithm which gives the element appearing maximum number of times?\n",
    "\n",
    "def findmax(arr):\n",
    "    x = 0\n",
    "    num = 0\n",
    "    for i in range(len(arr)):\n",
    "        count = 0\n",
    "        for j in range(len(arr)):\n",
    "            if arr[i]==arr[j]:\n",
    "                count+=1\n",
    "        if count > x:\n",
    "            x = count\n",
    "            num = arr[i]\n",
    "    return num\n",
    "arr = [1,2,3,2,1,4,4,5,2,2,3,3,3,3,3]\n",
    "findmax(arr)\n"
   ]
  },
  {
   "cell_type": "raw",
   "id": "1f39ea1c-61ce-47f0-b95c-2edba943e2f0",
   "metadata": {},
   "source": [
    "Problem 2 : We are given a list of n-1 integers and these integers are in the range of 1 to n . There are no\n",
    "duplicates in the list. One of the integers is missing in the list. Give an algorithm to find that element Ex:\n",
    "[1,2,4,6,3,7,8] 5 is the missing num."
   ]
  },
  {
   "cell_type": "code",
   "execution_count": 53,
   "id": "78ec8ace-29aa-483f-893f-eadbbd011256",
   "metadata": {},
   "outputs": [],
   "source": [
    "\n",
    "def sort_arr(arr):\n",
    "    for i in range(len(arr)-1,0,-1):\n",
    "        for j in range(i):\n",
    "            if arr[j]>arr[j+1]:\n",
    "                arr[j],arr[j+1] = arr[j+1],arr[j]\n",
    "    return arr\n",
    "\n",
    "#arr= [1,2,4,6,3,7,8]\n",
    "#sort_arr(arr)"
   ]
  },
  {
   "cell_type": "code",
   "execution_count": 54,
   "id": "4aed35ec-68c3-44c3-b4a1-fee323e437a2",
   "metadata": {},
   "outputs": [
    {
     "name": "stdout",
     "output_type": "stream",
     "text": [
      "5 is missing\n"
     ]
    }
   ],
   "source": [
    "def findmissing(arr, sI):\n",
    "    sort_arr(arr)\n",
    "    count = 0\n",
    "    for i in range(len(arr)):\n",
    "        if arr[i] == sI+count:\n",
    "            count+=1\n",
    "        else:\n",
    "            print(sI+count,'is missing')\n",
    "            break\n",
    "arr= [1,2,4,6,3,7,8]\n",
    "findmissing(arr,arr[0])"
   ]
  },
  {
   "cell_type": "code",
   "execution_count": 55,
   "id": "ffd58865-a952-4d51-b21f-99d897e45978",
   "metadata": {},
   "outputs": [
    {
     "data": {
      "text/plain": [
       "(5, 'is missing')"
      ]
     },
     "execution_count": 55,
     "metadata": {},
     "output_type": "execute_result"
    }
   ],
   "source": [
    "# other approach \n",
    "\n",
    "def findmissingnew(arr):\n",
    "    n = len(arr)+1\n",
    "    sum_n = n*(n+1)//2  # sum of n numbers  from 1 to n \n",
    "    sum_m = 0\n",
    "    for i in arr:\n",
    "        sum_m+=i\n",
    "    missing_num = sum_n - sum_m\n",
    "    return missing_num,'is missing'\n",
    "        \n",
    "    \n",
    "findmissingnew(arr)  "
   ]
  },
  {
   "cell_type": "raw",
   "id": "475e9fdd-f14d-47dd-bcaa-6acb18c883e5",
   "metadata": {},
   "source": [
    "Problem 3 : Given an array of n positive numbers. All numbers occurs even number of times except 1 which\n",
    "occurs odd number of times. Find that number in O(n) time and O(1) space. Ex: [1,2,3,2,3,1,3]. 3 is repeats odd\n",
    "times."
   ]
  },
  {
   "cell_type": "code",
   "execution_count": 56,
   "id": "70b42572-aa0b-4387-afdd-782de59f7641",
   "metadata": {},
   "outputs": [
    {
     "data": {
      "text/plain": [
       "3"
      ]
     },
     "execution_count": 56,
     "metadata": {},
     "output_type": "execute_result"
    }
   ],
   "source": [
    "def findoddrep(arr):\n",
    "    for i in range(len(arr)):\n",
    "        count = 0\n",
    "        for j in range(len(arr)):\n",
    "            if arr[i] == arr[j]:\n",
    "                count += 1\n",
    "        if count%2!= 0:\n",
    "            return(arr[i])\n",
    "\n",
    "    return 'no element with odd reps'\n",
    "\n",
    "arr = [1,2,3,2,3,1,3]\n",
    "\n",
    "findoddrep(arr)    "
   ]
  },
  {
   "cell_type": "code",
   "execution_count": 57,
   "id": "e97f2648-3171-4d0e-a6b1-46c36eac8313",
   "metadata": {},
   "outputs": [
    {
     "name": "stdout",
     "output_type": "stream",
     "text": [
      "5 , 1\n",
      "4 , 2\n"
     ]
    }
   ],
   "source": [
    "# Problem 4 : Given an array of n elements. Find two elements in the array such that their sum is equal to given element K.\n",
    "\n",
    "def findissummatchesk(arr,k):\n",
    "    for i in range(len(arr)-1,0,-1):\n",
    "        for j in range(i):\n",
    "            if (arr[i] + arr[j] == k):\n",
    "                print(arr[i],',',arr[j])\n",
    "                \n",
    "arr = [1,2,3,4,5,6,7,8,9]\n",
    "\n",
    "findissummatchesk(arr,6)    "
   ]
  },
  {
   "cell_type": "raw",
   "id": "c1294612-ad7a-4960-b9ed-e450a0b91040",
   "metadata": {},
   "source": [
    "Problem 5 : Given an array of both positive and negative numbers, find two numbers such that their sum is\n",
    "closest to 0. Ex: [ 1 ,60 ,-10, 70, -80,85]. Ans : -80,85."
   ]
  },
  {
   "cell_type": "code",
   "execution_count": 58,
   "id": "5b1deae1-4951-424b-b50f-3f4f90e2f886",
   "metadata": {},
   "outputs": [
    {
     "data": {
      "text/plain": [
       "(-80, 85)"
      ]
     },
     "execution_count": 58,
     "metadata": {},
     "output_type": "execute_result"
    }
   ],
   "source": [
    "def findsumcloseto0(arr):\n",
    "    min = arr[0]+arr[1]\n",
    "    x = 0\n",
    "    y = 0\n",
    "    for i in range(len(arr)):\n",
    "        for j in range((i+1), len(arr)):\n",
    "            if i != j:\n",
    "                if abs(arr[i] + arr[j]) < min:\n",
    "                    min = abs(arr[i] + arr[j])\n",
    "                    x = arr[i]\n",
    "                    y = arr[j]\n",
    "    return x,y\n",
    "        \n",
    "        \n",
    "        \n",
    "    \n",
    "    \n",
    "arr = [ 1 ,60 ,-10, 70, -80,85]\n",
    "findsumcloseto0(arr)\n",
    "\n",
    "                "
   ]
  },
  {
   "cell_type": "raw",
   "id": "bdee7cec-58fb-461a-b1db-5b7b852253db",
   "metadata": {},
   "source": [
    "Problem 6 : Given an array of n elements . Find three elements such that their sum is equal to the given number."
   ]
  },
  {
   "cell_type": "code",
   "execution_count": 59,
   "id": "8ec3baff-1ef4-41e4-a128-164fb396f7ff",
   "metadata": {},
   "outputs": [
    {
     "name": "stdout",
     "output_type": "stream",
     "text": [
      "4 10 8\n"
     ]
    }
   ],
   "source": [
    "def findsumfor3(arr, num):\n",
    "    for i in range(len(arr)-1):\n",
    "        for j in range(i+1, len(arr)-1):\n",
    "            for k in range(j+1, len(arr)):\n",
    "                if arr[i]+arr[j]+arr[k] == num:\n",
    "                    print(arr[i],arr[j],arr[k])\n",
    "\n",
    "arr = [1, 4, 45, 6, 10, 8]\n",
    "findsumfor3(arr, 22)"
   ]
  },
  {
   "cell_type": "raw",
   "id": "e23f51c3-f811-43ea-b1c3-e5f6c38084ab",
   "metadata": {},
   "source": [
    "Problem 7 : Given an array of n elements . Find three elements i, j, k in the array such that\n",
    "i * i + j * j = k*k."
   ]
  },
  {
   "cell_type": "code",
   "execution_count": 60,
   "id": "96cb8cd3-fca9-4144-8c83-0ff4638c920d",
   "metadata": {},
   "outputs": [
    {
     "name": "stdout",
     "output_type": "stream",
     "text": [
      "3 4 5\n"
     ]
    }
   ],
   "source": [
    "def findeq(arr):\n",
    "    for i in range(len(arr)-1):\n",
    "        for j in range(i+1, len(arr)-1):\n",
    "            for k in range(j+1, len(arr)):\n",
    "                if (arr[i]**2) + (arr[j]**2) == (arr[k]**2):\n",
    "                    print(arr[i],arr[j],arr[k])\n",
    "    \n",
    "                    \n",
    "arr = [3, 1, 4, 6, 5]\n",
    "findeq(arr)"
   ]
  },
  {
   "cell_type": "raw",
   "id": "48c2d2d5-3468-4080-80e4-5b9dfc7a89b9",
   "metadata": {},
   "source": [
    "Problem 8 : An element is a majority if it appears more than n/2 times. Give an algorithm takes an array of n\n",
    "element as argument and identifies a majority (if it exists)."
   ]
  },
  {
   "cell_type": "code",
   "execution_count": 93,
   "id": "b54b84ab-8144-44ab-af42-5d0938497c31",
   "metadata": {},
   "outputs": [
    {
     "data": {
      "text/plain": [
       "'Exists'"
      ]
     },
     "execution_count": 93,
     "metadata": {},
     "output_type": "execute_result"
    }
   ],
   "source": [
    "def findmaxcount(arr):\n",
    "    count = 0\n",
    "    max = 0\n",
    "    for i in range(len(arr)):\n",
    "        for j in range(len(arr)):\n",
    "            if arr[i] == arr[j]:\n",
    "                count+=1\n",
    "        if count > max:\n",
    "            max = count\n",
    "        count = 0\n",
    "    if max > len(arr)//2:\n",
    "        return 'Exists'\n",
    "    else:\n",
    "        return 'Dont exixt'\n",
    "            \n",
    "            \n",
    "arr = [3, 3, 4, 2, 4, 4, 2, 4, 4]\n",
    "\n",
    "findmaxcount(arr)\n"
   ]
  },
  {
   "cell_type": "raw",
   "id": "ecb53ecc-bea7-4c30-8f92-b5797c28448f",
   "metadata": {},
   "source": [
    "Problem 9 : Given n × n matrix, and in each row all 1’s are followed by 0’s. Find the row with the maximum\n",
    "number of 0’s."
   ]
  },
  {
   "cell_type": "code",
   "execution_count": 98,
   "id": "fd14882c-7e8a-474b-8472-46d84b255e0f",
   "metadata": {},
   "outputs": [
    {
     "data": {
      "text/plain": [
       "4"
      ]
     },
     "execution_count": 98,
     "metadata": {},
     "output_type": "execute_result"
    }
   ],
   "source": [
    "def findmaxzerosrow(arr):\n",
    "    count = 0\n",
    "    max_row_count= 0\n",
    "    row = 0\n",
    "    for i in range(len(arr)):\n",
    "        for j in range(len(arr)):\n",
    "            if arr[i][j] == 0:\n",
    "                count+=1\n",
    "        if count > max_row_count :\n",
    "            max_row_count = count\n",
    "            row = i+1\n",
    "        count = 0\n",
    "    return row\n",
    "            \n",
    "            \n",
    "arr = [\n",
    "    [1, 1, 1, 0, 0],\n",
    "    [1, 1, 0, 0, 0],\n",
    "    [1, 1, 1, 1, 0],\n",
    "    [1, 0, 0, 0, 0],\n",
    "    [1, 1, 1, 1, 1]\n",
    "]        \n",
    "findmaxzerosrow(arr) "
   ]
  },
  {
   "cell_type": "raw",
   "id": "bf45a285-2db9-4cae-a7b5-379d1d53ab51",
   "metadata": {},
   "source": [
    "Problem 10 : Sort an array of 0’s, 1’s and 2’s [or R’s, G’s and B’s]: Given an array A[] consisting of 0’s, 1’s and\n",
    "2’s, give an algorithm for sorting A[].The algorithm should put all 0’s first, then all 1’s and finally all 2’s at the\n",
    "end. Example Input = {0,1,1,0,1,2,1,2,0,0,0,1}, Output = {0,0,0,0,0,1,1,1,1,1,2,2}"
   ]
  },
  {
   "cell_type": "code",
   "execution_count": 99,
   "id": "3a57855b-2650-4f9a-9534-8ee6792a5a78",
   "metadata": {},
   "outputs": [
    {
     "data": {
      "text/plain": [
       "[0, 0, 0, 0, 0, 1, 1, 1, 1, 1, 2, 2]"
      ]
     },
     "execution_count": 99,
     "metadata": {},
     "output_type": "execute_result"
    }
   ],
   "source": [
    "def sortarrbs(arr):\n",
    "    for i in range(len(arr)-1,0,-1):\n",
    "        for j in range(i):\n",
    "            if arr[j]>arr[j+1]:\n",
    "                arr[j],arr[j+1]=arr[j+1],arr[j]\n",
    "    return arr\n",
    "\n",
    "arr = [0,1,1,0,1,2,1,2,0,0,0,1]\n",
    "sortarrbs(arr)"
   ]
  },
  {
   "cell_type": "code",
   "execution_count": null,
   "id": "9c3ef5dc-3915-48d3-b0f8-6e7f4973c6d8",
   "metadata": {},
   "outputs": [],
   "source": []
  }
 ],
 "metadata": {
  "kernelspec": {
   "display_name": "Python 3 (ipykernel)",
   "language": "python",
   "name": "python3"
  },
  "language_info": {
   "codemirror_mode": {
    "name": "ipython",
    "version": 3
   },
   "file_extension": ".py",
   "mimetype": "text/x-python",
   "name": "python",
   "nbconvert_exporter": "python",
   "pygments_lexer": "ipython3",
   "version": "3.10.8"
  }
 },
 "nbformat": 4,
 "nbformat_minor": 5
}
